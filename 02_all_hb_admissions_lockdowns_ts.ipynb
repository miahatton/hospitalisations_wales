{
 "cells": [
  {
   "cell_type": "code",
   "execution_count": 19,
   "metadata": {
    "collapsed": true
   },
   "outputs": [],
   "source": [
    "import pandas as pd\n",
    "import plotly.express as px\n",
    "import plotly"
   ]
  },
  {
   "cell_type": "code",
   "execution_count": 6,
   "metadata": {},
   "outputs": [
    {
     "data": {
      "text/html": [
       "<div>\n",
       "<style scoped>\n",
       "    .dataframe tbody tr th:only-of-type {\n",
       "        vertical-align: middle;\n",
       "    }\n",
       "\n",
       "    .dataframe tbody tr th {\n",
       "        vertical-align: top;\n",
       "    }\n",
       "\n",
       "    .dataframe thead th {\n",
       "        text-align: right;\n",
       "    }\n",
       "</style>\n",
       "<table border=\"1\" class=\"dataframe\">\n",
       "  <thead>\n",
       "    <tr style=\"text-align: right;\">\n",
       "      <th></th>\n",
       "      <th>date</th>\n",
       "      <th>health_board</th>\n",
       "      <th>admission_type</th>\n",
       "      <th>count</th>\n",
       "    </tr>\n",
       "  </thead>\n",
       "  <tbody>\n",
       "    <tr>\n",
       "      <th>0</th>\n",
       "      <td>2020-04-01</td>\n",
       "      <td>Betsi Cadwaladr University Health Board</td>\n",
       "      <td>C19</td>\n",
       "      <td>28</td>\n",
       "    </tr>\n",
       "    <tr>\n",
       "      <th>1</th>\n",
       "      <td>2020-04-01</td>\n",
       "      <td>Betsi Cadwaladr University Health Board</td>\n",
       "      <td>NonC19</td>\n",
       "      <td>98</td>\n",
       "    </tr>\n",
       "    <tr>\n",
       "      <th>2</th>\n",
       "      <td>2020-04-01</td>\n",
       "      <td>Betsi Cadwaladr University Health Board</td>\n",
       "      <td>All</td>\n",
       "      <td>126</td>\n",
       "    </tr>\n",
       "    <tr>\n",
       "      <th>3</th>\n",
       "      <td>2020-04-01</td>\n",
       "      <td>Hywel Dda University Health Board</td>\n",
       "      <td>C19</td>\n",
       "      <td>16</td>\n",
       "    </tr>\n",
       "    <tr>\n",
       "      <th>4</th>\n",
       "      <td>2020-04-01</td>\n",
       "      <td>Hywel Dda University Health Board</td>\n",
       "      <td>NonC19</td>\n",
       "      <td>63</td>\n",
       "    </tr>\n",
       "  </tbody>\n",
       "</table>\n",
       "</div>"
      ],
      "text/plain": [
       "        date                             health_board admission_type  count\n",
       "0 2020-04-01  Betsi Cadwaladr University Health Board            C19     28\n",
       "1 2020-04-01  Betsi Cadwaladr University Health Board         NonC19     98\n",
       "2 2020-04-01  Betsi Cadwaladr University Health Board            All    126\n",
       "3 2020-04-01        Hywel Dda University Health Board            C19     16\n",
       "4 2020-04-01        Hywel Dda University Health Board         NonC19     63"
      ]
     },
     "execution_count": 6,
     "metadata": {},
     "output_type": "execute_result"
    }
   ],
   "source": [
    "admissions = pd.read_csv('data-ingest/data/admissions_hb_long_unfiltered.csv', parse_dates = [0])\n",
    "admissions.head()"
   ]
  },
  {
   "cell_type": "code",
   "execution_count": 7,
   "metadata": {},
   "outputs": [
    {
     "data": {
      "text/plain": [
       "array(['Betsi Cadwaladr University Health Board',\n",
       "       'Hywel Dda University Health Board',\n",
       "       'Abertawe Bro Morgannwg University Health Board',\n",
       "       'Cardiff and Vale University Health Board',\n",
       "       'Cwm Taf University Health Board',\n",
       "       'Aneurin Bevan University Health Board',\n",
       "       'Velindre University NHS Trust', 'Wales',\n",
       "       'Powys Teaching Health Board'], dtype=object)"
      ]
     },
     "execution_count": 7,
     "metadata": {},
     "output_type": "execute_result"
    }
   ],
   "source": [
    "admissions.health_board.unique()"
   ]
  },
  {
   "cell_type": "code",
   "execution_count": 9,
   "metadata": {},
   "outputs": [
    {
     "data": {
      "text/html": [
       "<div>\n",
       "<style scoped>\n",
       "    .dataframe tbody tr th:only-of-type {\n",
       "        vertical-align: middle;\n",
       "    }\n",
       "\n",
       "    .dataframe tbody tr th {\n",
       "        vertical-align: top;\n",
       "    }\n",
       "\n",
       "    .dataframe thead th {\n",
       "        text-align: right;\n",
       "    }\n",
       "</style>\n",
       "<table border=\"1\" class=\"dataframe\">\n",
       "  <thead>\n",
       "    <tr style=\"text-align: right;\">\n",
       "      <th></th>\n",
       "      <th>date</th>\n",
       "      <th>health_board</th>\n",
       "      <th>count</th>\n",
       "    </tr>\n",
       "  </thead>\n",
       "  <tbody>\n",
       "    <tr>\n",
       "      <th>6021</th>\n",
       "      <td>2020-11-12</td>\n",
       "      <td>Cwm Taf University Health Board</td>\n",
       "      <td>15</td>\n",
       "    </tr>\n",
       "    <tr>\n",
       "      <th>6024</th>\n",
       "      <td>2020-11-12</td>\n",
       "      <td>Aneurin Bevan University Health Board</td>\n",
       "      <td>20</td>\n",
       "    </tr>\n",
       "    <tr>\n",
       "      <th>6027</th>\n",
       "      <td>2020-11-12</td>\n",
       "      <td>Powys Teaching Health Board</td>\n",
       "      <td>0</td>\n",
       "    </tr>\n",
       "    <tr>\n",
       "      <th>6030</th>\n",
       "      <td>2020-11-12</td>\n",
       "      <td>Velindre University NHS Trust</td>\n",
       "      <td>0</td>\n",
       "    </tr>\n",
       "    <tr>\n",
       "      <th>6033</th>\n",
       "      <td>2020-11-12</td>\n",
       "      <td>Wales</td>\n",
       "      <td>100</td>\n",
       "    </tr>\n",
       "  </tbody>\n",
       "</table>\n",
       "</div>"
      ],
      "text/plain": [
       "           date                           health_board  count\n",
       "6021 2020-11-12        Cwm Taf University Health Board     15\n",
       "6024 2020-11-12  Aneurin Bevan University Health Board     20\n",
       "6027 2020-11-12            Powys Teaching Health Board      0\n",
       "6030 2020-11-12          Velindre University NHS Trust      0\n",
       "6033 2020-11-12                                  Wales    100"
      ]
     },
     "execution_count": 9,
     "metadata": {},
     "output_type": "execute_result"
    }
   ],
   "source": [
    "admissions_covid = admissions[admissions['admission_type'] == 'C19'].drop(columns = ['admission_type'])\n",
    "admissions_covid.tail()"
   ]
  },
  {
   "cell_type": "code",
   "execution_count": 12,
   "metadata": {},
   "outputs": [
    {
     "data": {
      "text/html": [
       "<div>\n",
       "<style scoped>\n",
       "    .dataframe tbody tr th:only-of-type {\n",
       "        vertical-align: middle;\n",
       "    }\n",
       "\n",
       "    .dataframe tbody tr th {\n",
       "        vertical-align: top;\n",
       "    }\n",
       "\n",
       "    .dataframe thead th {\n",
       "        text-align: right;\n",
       "    }\n",
       "</style>\n",
       "<table border=\"1\" class=\"dataframe\">\n",
       "  <thead>\n",
       "    <tr style=\"text-align: right;\">\n",
       "      <th></th>\n",
       "      <th>date</th>\n",
       "      <th>health_board</th>\n",
       "      <th>lockdown_status</th>\n",
       "    </tr>\n",
       "  </thead>\n",
       "  <tbody>\n",
       "    <tr>\n",
       "      <th>1998</th>\n",
       "      <td>2020-07-11</td>\n",
       "      <td>Wales</td>\n",
       "      <td>No status</td>\n",
       "    </tr>\n",
       "    <tr>\n",
       "      <th>1999</th>\n",
       "      <td>2020-08-11</td>\n",
       "      <td>Wales</td>\n",
       "      <td>No status</td>\n",
       "    </tr>\n",
       "    <tr>\n",
       "      <th>2000</th>\n",
       "      <td>2020-09-11</td>\n",
       "      <td>Wales</td>\n",
       "      <td>No status</td>\n",
       "    </tr>\n",
       "    <tr>\n",
       "      <th>2001</th>\n",
       "      <td>2020-10-11</td>\n",
       "      <td>Wales</td>\n",
       "      <td>No status</td>\n",
       "    </tr>\n",
       "    <tr>\n",
       "      <th>2002</th>\n",
       "      <td>2020-11-11</td>\n",
       "      <td>Wales</td>\n",
       "      <td>No status</td>\n",
       "    </tr>\n",
       "  </tbody>\n",
       "</table>\n",
       "</div>"
      ],
      "text/plain": [
       "           date health_board lockdown_status\n",
       "1998 2020-07-11        Wales       No status\n",
       "1999 2020-08-11        Wales       No status\n",
       "2000 2020-09-11        Wales       No status\n",
       "2001 2020-10-11        Wales       No status\n",
       "2002 2020-11-11        Wales       No status"
      ]
     },
     "execution_count": 12,
     "metadata": {},
     "output_type": "execute_result"
    }
   ],
   "source": [
    "lockdowns = pd.read_csv('data-ingest/data/lockdown_status_hb_date.csv', parse_dates = [0])\n",
    "lockdowns['date'] = pd.to_datetime(lockdowns['date'], format = '%d/%m/%Y')\n",
    "lockdowns.tail()"
   ]
  },
  {
   "cell_type": "code",
   "execution_count": 13,
   "metadata": {},
   "outputs": [
    {
     "data": {
      "text/html": [
       "<div>\n",
       "<style scoped>\n",
       "    .dataframe tbody tr th:only-of-type {\n",
       "        vertical-align: middle;\n",
       "    }\n",
       "\n",
       "    .dataframe tbody tr th {\n",
       "        vertical-align: top;\n",
       "    }\n",
       "\n",
       "    .dataframe thead th {\n",
       "        text-align: right;\n",
       "    }\n",
       "</style>\n",
       "<table border=\"1\" class=\"dataframe\">\n",
       "  <thead>\n",
       "    <tr style=\"text-align: right;\">\n",
       "      <th></th>\n",
       "      <th>date</th>\n",
       "      <th>health_board</th>\n",
       "      <th>count</th>\n",
       "      <th>lockdown_status</th>\n",
       "    </tr>\n",
       "  </thead>\n",
       "  <tbody>\n",
       "    <tr>\n",
       "      <th>0</th>\n",
       "      <td>2020-04-04</td>\n",
       "      <td>Betsi Cadwaladr University Health Board</td>\n",
       "      <td>30</td>\n",
       "      <td>Full national lockdown</td>\n",
       "    </tr>\n",
       "    <tr>\n",
       "      <th>1</th>\n",
       "      <td>2020-04-04</td>\n",
       "      <td>Hywel Dda University Health Board</td>\n",
       "      <td>7</td>\n",
       "      <td>Full national lockdown</td>\n",
       "    </tr>\n",
       "    <tr>\n",
       "      <th>2</th>\n",
       "      <td>2020-04-04</td>\n",
       "      <td>Abertawe Bro Morgannwg University Health Board</td>\n",
       "      <td>24</td>\n",
       "      <td>Full national lockdown</td>\n",
       "    </tr>\n",
       "    <tr>\n",
       "      <th>3</th>\n",
       "      <td>2020-04-04</td>\n",
       "      <td>Cardiff and Vale University Health Board</td>\n",
       "      <td>30</td>\n",
       "      <td>Full national lockdown</td>\n",
       "    </tr>\n",
       "    <tr>\n",
       "      <th>4</th>\n",
       "      <td>2020-04-04</td>\n",
       "      <td>Cwm Taf University Health Board</td>\n",
       "      <td>30</td>\n",
       "      <td>Full national lockdown</td>\n",
       "    </tr>\n",
       "  </tbody>\n",
       "</table>\n",
       "</div>"
      ],
      "text/plain": [
       "        date                                    health_board  count  \\\n",
       "0 2020-04-04         Betsi Cadwaladr University Health Board     30   \n",
       "1 2020-04-04               Hywel Dda University Health Board      7   \n",
       "2 2020-04-04  Abertawe Bro Morgannwg University Health Board     24   \n",
       "3 2020-04-04        Cardiff and Vale University Health Board     30   \n",
       "4 2020-04-04                 Cwm Taf University Health Board     30   \n",
       "\n",
       "          lockdown_status  \n",
       "0  Full national lockdown  \n",
       "1  Full national lockdown  \n",
       "2  Full national lockdown  \n",
       "3  Full national lockdown  \n",
       "4  Full national lockdown  "
      ]
     },
     "execution_count": 13,
     "metadata": {},
     "output_type": "execute_result"
    }
   ],
   "source": [
    "admss_lockdowns = admissions_covid.merge(lockdowns, how = 'inner', on = ['date', 'health_board'])\n",
    "admss_lockdowns.head()"
   ]
  },
  {
   "cell_type": "code",
   "execution_count": 21,
   "metadata": {
    "scrolled": false
   },
   "outputs": [
    {
     "data": {
      "text/plain": [
       "'temp-plot.html'"
      ]
     },
     "execution_count": 21,
     "metadata": {},
     "output_type": "execute_result"
    }
   ],
   "source": [
    "all_wales = admss_lockdowns[admss_lockdowns['health_board']=='Wales']\n",
    "\n",
    "fig = px.line(all_wales, x = 'date', y = 'count')\n",
    "plotly.offline.plot(fig)"
   ]
  },
  {
   "cell_type": "code",
   "execution_count": 24,
   "metadata": {},
   "outputs": [
    {
     "data": {
      "text/html": [
       "<div>\n",
       "<style scoped>\n",
       "    .dataframe tbody tr th:only-of-type {\n",
       "        vertical-align: middle;\n",
       "    }\n",
       "\n",
       "    .dataframe tbody tr th {\n",
       "        vertical-align: top;\n",
       "    }\n",
       "\n",
       "    .dataframe thead th {\n",
       "        text-align: right;\n",
       "    }\n",
       "</style>\n",
       "<table border=\"1\" class=\"dataframe\">\n",
       "  <thead>\n",
       "    <tr style=\"text-align: right;\">\n",
       "      <th></th>\n",
       "      <th>date</th>\n",
       "      <th>health_board</th>\n",
       "      <th>count</th>\n",
       "      <th>lockdown_status</th>\n",
       "      <th>daycount_from_local_lockdown</th>\n",
       "    </tr>\n",
       "  </thead>\n",
       "  <tbody>\n",
       "    <tr>\n",
       "      <th>1681</th>\n",
       "      <td>2020-11-07</td>\n",
       "      <td>Aneurin Bevan University Health Board</td>\n",
       "      <td>50</td>\n",
       "      <td>No local lockdowns</td>\n",
       "      <td>147</td>\n",
       "    </tr>\n",
       "    <tr>\n",
       "      <th>1690</th>\n",
       "      <td>2020-11-08</td>\n",
       "      <td>Aneurin Bevan University Health Board</td>\n",
       "      <td>20</td>\n",
       "      <td>No local lockdowns</td>\n",
       "      <td>148</td>\n",
       "    </tr>\n",
       "    <tr>\n",
       "      <th>1699</th>\n",
       "      <td>2020-11-09</td>\n",
       "      <td>Aneurin Bevan University Health Board</td>\n",
       "      <td>9</td>\n",
       "      <td>Local lockdowns</td>\n",
       "      <td>149</td>\n",
       "    </tr>\n",
       "    <tr>\n",
       "      <th>1708</th>\n",
       "      <td>2020-11-10</td>\n",
       "      <td>Aneurin Bevan University Health Board</td>\n",
       "      <td>23</td>\n",
       "      <td>Local lockdowns</td>\n",
       "      <td>150</td>\n",
       "    </tr>\n",
       "    <tr>\n",
       "      <th>1717</th>\n",
       "      <td>2020-11-11</td>\n",
       "      <td>Aneurin Bevan University Health Board</td>\n",
       "      <td>29</td>\n",
       "      <td>Post-firebreak</td>\n",
       "      <td>151</td>\n",
       "    </tr>\n",
       "  </tbody>\n",
       "</table>\n",
       "</div>"
      ],
      "text/plain": [
       "           date                           health_board  count  \\\n",
       "1681 2020-11-07  Aneurin Bevan University Health Board     50   \n",
       "1690 2020-11-08  Aneurin Bevan University Health Board     20   \n",
       "1699 2020-11-09  Aneurin Bevan University Health Board      9   \n",
       "1708 2020-11-10  Aneurin Bevan University Health Board     23   \n",
       "1717 2020-11-11  Aneurin Bevan University Health Board     29   \n",
       "\n",
       "         lockdown_status  daycount_from_local_lockdown  \n",
       "1681  No local lockdowns                           147  \n",
       "1690  No local lockdowns                           148  \n",
       "1699     Local lockdowns                           149  \n",
       "1708     Local lockdowns                           150  \n",
       "1717      Post-firebreak                           151  "
      ]
     },
     "execution_count": 24,
     "metadata": {},
     "output_type": "execute_result"
    }
   ],
   "source": [
    "# find the first day of local lockdowns for all healthboards.\n",
    "\n",
    "def lockdown_countdown(df: pd.DataFrame, hb: str) -> pd.DataFrame:\n",
    "    temp_df = df[df['health_board'] == hb].sort_values('date')\n",
    "    first_day = temp_df[temp_df['lockdown_status'] != 'No local lockdowns'].iloc[0,0]\n",
    "    temp_df = temp_df[temp_df['date']>= first_day - pd.Timedelta('28 days')]\n",
    "    temp_df = temp_df[temp_df['lockdown_status'] != 'Firebreak lockdown'] \n",
    "    temp_df['daycount_from_local_lockdown'] = list(range(-28, len(temp_df)-28))\n",
    "    return temp_df\n",
    "\n",
    "countdown_df = pd.concat([lockdown_countdown(admss_lockdowns, hb) for hb in admss_lockdowns.health_board.unique() if hb not in ['Powys Teaching Health Board', 'Velindre University NHS Trust', 'Wales']])\n",
    "countdown_df.tail()"
   ]
  },
  {
   "cell_type": "code",
   "execution_count": 27,
   "metadata": {},
   "outputs": [
    {
     "data": {
      "text/plain": [
       "'temp-plot.html'"
      ]
     },
     "execution_count": 27,
     "metadata": {},
     "output_type": "execute_result"
    }
   ],
   "source": [
    "#all_wales = beds_lockdowns[beds_lockdowns['health_board']=='Wales']\n",
    "\n",
    "fig = px.line(countdown_df[countdown_df['daycount_from_local_lockdown'] < 56], \n",
    "              x = 'daycount_from_local_lockdown', y = 'count', color = 'health_board')\n",
    "plotly.offline.plot(fig)"
   ]
  },
  {
   "cell_type": "code",
   "execution_count": 30,
   "metadata": {},
   "outputs": [
    {
     "data": {
      "text/html": [
       "<div>\n",
       "<style scoped>\n",
       "    .dataframe tbody tr th:only-of-type {\n",
       "        vertical-align: middle;\n",
       "    }\n",
       "\n",
       "    .dataframe tbody tr th {\n",
       "        vertical-align: top;\n",
       "    }\n",
       "\n",
       "    .dataframe thead th {\n",
       "        text-align: right;\n",
       "    }\n",
       "</style>\n",
       "<table border=\"1\" class=\"dataframe\">\n",
       "  <thead>\n",
       "    <tr style=\"text-align: right;\">\n",
       "      <th></th>\n",
       "      <th>daycount_from_local_lockdown</th>\n",
       "      <th>health_board</th>\n",
       "      <th>count</th>\n",
       "    </tr>\n",
       "  </thead>\n",
       "  <tbody>\n",
       "    <tr>\n",
       "      <th>0</th>\n",
       "      <td>-28</td>\n",
       "      <td>Betsi Cadwaladr University Health Board</td>\n",
       "      <td>30</td>\n",
       "    </tr>\n",
       "    <tr>\n",
       "      <th>8</th>\n",
       "      <td>-27</td>\n",
       "      <td>Betsi Cadwaladr University Health Board</td>\n",
       "      <td>23</td>\n",
       "    </tr>\n",
       "    <tr>\n",
       "      <th>16</th>\n",
       "      <td>-26</td>\n",
       "      <td>Betsi Cadwaladr University Health Board</td>\n",
       "      <td>19</td>\n",
       "    </tr>\n",
       "    <tr>\n",
       "      <th>24</th>\n",
       "      <td>-25</td>\n",
       "      <td>Betsi Cadwaladr University Health Board</td>\n",
       "      <td>28</td>\n",
       "    </tr>\n",
       "    <tr>\n",
       "      <th>32</th>\n",
       "      <td>-24</td>\n",
       "      <td>Betsi Cadwaladr University Health Board</td>\n",
       "      <td>32</td>\n",
       "    </tr>\n",
       "  </tbody>\n",
       "</table>\n",
       "</div>"
      ],
      "text/plain": [
       "    daycount_from_local_lockdown                             health_board  \\\n",
       "0                            -28  Betsi Cadwaladr University Health Board   \n",
       "8                            -27  Betsi Cadwaladr University Health Board   \n",
       "16                           -26  Betsi Cadwaladr University Health Board   \n",
       "24                           -25  Betsi Cadwaladr University Health Board   \n",
       "32                           -24  Betsi Cadwaladr University Health Board   \n",
       "\n",
       "    count  \n",
       "0      30  \n",
       "8      23  \n",
       "16     19  \n",
       "24     28  \n",
       "32     32  "
      ]
     },
     "execution_count": 30,
     "metadata": {},
     "output_type": "execute_result"
    }
   ],
   "source": [
    "hbs_filterable = countdown_df[countdown_df['daycount_from_local_lockdown'] < 56].drop(columns = ['date', 'lockdown_status'])\n",
    "hbs_filterable = hbs_filterable[['daycount_from_local_lockdown', 'health_board', 'count']]\n",
    "hbs_filterable.head()"
   ]
  },
  {
   "cell_type": "code",
   "execution_count": 35,
   "metadata": {},
   "outputs": [
    {
     "data": {
      "text/html": [
       "<div>\n",
       "<style scoped>\n",
       "    .dataframe tbody tr th:only-of-type {\n",
       "        vertical-align: middle;\n",
       "    }\n",
       "\n",
       "    .dataframe tbody tr th {\n",
       "        vertical-align: top;\n",
       "    }\n",
       "\n",
       "    .dataframe thead th {\n",
       "        text-align: right;\n",
       "    }\n",
       "</style>\n",
       "<table border=\"1\" class=\"dataframe\">\n",
       "  <thead>\n",
       "    <tr style=\"text-align: right;\">\n",
       "      <th></th>\n",
       "      <th>daycount_from_local_lockdown</th>\n",
       "      <th>health_board</th>\n",
       "      <th>count</th>\n",
       "      <th>ravg_admissions</th>\n",
       "    </tr>\n",
       "  </thead>\n",
       "  <tbody>\n",
       "    <tr>\n",
       "      <th>0</th>\n",
       "      <td>-28</td>\n",
       "      <td>Betsi Cadwaladr University Health Board</td>\n",
       "      <td>30</td>\n",
       "      <td>30.0</td>\n",
       "    </tr>\n",
       "    <tr>\n",
       "      <th>8</th>\n",
       "      <td>-27</td>\n",
       "      <td>Betsi Cadwaladr University Health Board</td>\n",
       "      <td>23</td>\n",
       "      <td>26.5</td>\n",
       "    </tr>\n",
       "    <tr>\n",
       "      <th>16</th>\n",
       "      <td>-26</td>\n",
       "      <td>Betsi Cadwaladr University Health Board</td>\n",
       "      <td>19</td>\n",
       "      <td>24.0</td>\n",
       "    </tr>\n",
       "    <tr>\n",
       "      <th>24</th>\n",
       "      <td>-25</td>\n",
       "      <td>Betsi Cadwaladr University Health Board</td>\n",
       "      <td>28</td>\n",
       "      <td>25.0</td>\n",
       "    </tr>\n",
       "    <tr>\n",
       "      <th>32</th>\n",
       "      <td>-24</td>\n",
       "      <td>Betsi Cadwaladr University Health Board</td>\n",
       "      <td>32</td>\n",
       "      <td>26.4</td>\n",
       "    </tr>\n",
       "  </tbody>\n",
       "</table>\n",
       "</div>"
      ],
      "text/plain": [
       "    daycount_from_local_lockdown                             health_board  \\\n",
       "0                            -28  Betsi Cadwaladr University Health Board   \n",
       "8                            -27  Betsi Cadwaladr University Health Board   \n",
       "16                           -26  Betsi Cadwaladr University Health Board   \n",
       "24                           -25  Betsi Cadwaladr University Health Board   \n",
       "32                           -24  Betsi Cadwaladr University Health Board   \n",
       "\n",
       "    count  ravg_admissions  \n",
       "0      30             30.0  \n",
       "8      23             26.5  \n",
       "16     19             24.0  \n",
       "24     28             25.0  \n",
       "32     32             26.4  "
      ]
     },
     "execution_count": 35,
     "metadata": {},
     "output_type": "execute_result"
    }
   ],
   "source": [
    "hbs_filterable['ravg_admissions'] = hbs_filterable.groupby('health_board')['count'].transform(lambda x: x.rolling(7, 1).mean())\n",
    "hbs_filterable.head()"
   ]
  },
  {
   "cell_type": "code",
   "execution_count": 36,
   "metadata": {},
   "outputs": [
    {
     "data": {
      "text/html": [
       "<div>\n",
       "<style scoped>\n",
       "    .dataframe tbody tr th:only-of-type {\n",
       "        vertical-align: middle;\n",
       "    }\n",
       "\n",
       "    .dataframe tbody tr th {\n",
       "        vertical-align: top;\n",
       "    }\n",
       "\n",
       "    .dataframe thead th {\n",
       "        text-align: right;\n",
       "    }\n",
       "</style>\n",
       "<table border=\"1\" class=\"dataframe\">\n",
       "  <thead>\n",
       "    <tr style=\"text-align: right;\">\n",
       "      <th>health_board</th>\n",
       "      <th>Abertawe Bro Morgannwg University Health Board</th>\n",
       "      <th>Aneurin Bevan University Health Board</th>\n",
       "      <th>Betsi Cadwaladr University Health Board</th>\n",
       "      <th>Cardiff and Vale University Health Board</th>\n",
       "      <th>Cwm Taf University Health Board</th>\n",
       "      <th>Hywel Dda University Health Board</th>\n",
       "    </tr>\n",
       "    <tr>\n",
       "      <th>daycount_from_local_lockdown</th>\n",
       "      <th></th>\n",
       "      <th></th>\n",
       "      <th></th>\n",
       "      <th></th>\n",
       "      <th></th>\n",
       "      <th></th>\n",
       "    </tr>\n",
       "  </thead>\n",
       "  <tbody>\n",
       "    <tr>\n",
       "      <th>-28</th>\n",
       "      <td>24.000000</td>\n",
       "      <td>13.000000</td>\n",
       "      <td>30.0</td>\n",
       "      <td>30.0</td>\n",
       "      <td>30.000000</td>\n",
       "      <td>7.00</td>\n",
       "    </tr>\n",
       "    <tr>\n",
       "      <th>-27</th>\n",
       "      <td>19.500000</td>\n",
       "      <td>21.500000</td>\n",
       "      <td>26.5</td>\n",
       "      <td>23.0</td>\n",
       "      <td>32.500000</td>\n",
       "      <td>11.00</td>\n",
       "    </tr>\n",
       "    <tr>\n",
       "      <th>-26</th>\n",
       "      <td>18.666667</td>\n",
       "      <td>23.333333</td>\n",
       "      <td>24.0</td>\n",
       "      <td>20.0</td>\n",
       "      <td>31.333333</td>\n",
       "      <td>13.00</td>\n",
       "    </tr>\n",
       "    <tr>\n",
       "      <th>-25</th>\n",
       "      <td>20.750000</td>\n",
       "      <td>33.250000</td>\n",
       "      <td>25.0</td>\n",
       "      <td>20.5</td>\n",
       "      <td>33.750000</td>\n",
       "      <td>13.25</td>\n",
       "    </tr>\n",
       "    <tr>\n",
       "      <th>-24</th>\n",
       "      <td>23.800000</td>\n",
       "      <td>31.400000</td>\n",
       "      <td>26.4</td>\n",
       "      <td>21.6</td>\n",
       "      <td>32.000000</td>\n",
       "      <td>13.60</td>\n",
       "    </tr>\n",
       "  </tbody>\n",
       "</table>\n",
       "</div>"
      ],
      "text/plain": [
       "health_board                  Abertawe Bro Morgannwg University Health Board  \\\n",
       "daycount_from_local_lockdown                                                   \n",
       "-28                                                                24.000000   \n",
       "-27                                                                19.500000   \n",
       "-26                                                                18.666667   \n",
       "-25                                                                20.750000   \n",
       "-24                                                                23.800000   \n",
       "\n",
       "health_board                  Aneurin Bevan University Health Board  \\\n",
       "daycount_from_local_lockdown                                          \n",
       "-28                                                       13.000000   \n",
       "-27                                                       21.500000   \n",
       "-26                                                       23.333333   \n",
       "-25                                                       33.250000   \n",
       "-24                                                       31.400000   \n",
       "\n",
       "health_board                  Betsi Cadwaladr University Health Board  \\\n",
       "daycount_from_local_lockdown                                            \n",
       "-28                                                              30.0   \n",
       "-27                                                              26.5   \n",
       "-26                                                              24.0   \n",
       "-25                                                              25.0   \n",
       "-24                                                              26.4   \n",
       "\n",
       "health_board                  Cardiff and Vale University Health Board  \\\n",
       "daycount_from_local_lockdown                                             \n",
       "-28                                                               30.0   \n",
       "-27                                                               23.0   \n",
       "-26                                                               20.0   \n",
       "-25                                                               20.5   \n",
       "-24                                                               21.6   \n",
       "\n",
       "health_board                  Cwm Taf University Health Board  \\\n",
       "daycount_from_local_lockdown                                    \n",
       "-28                                                 30.000000   \n",
       "-27                                                 32.500000   \n",
       "-26                                                 31.333333   \n",
       "-25                                                 33.750000   \n",
       "-24                                                 32.000000   \n",
       "\n",
       "health_board                  Hywel Dda University Health Board  \n",
       "daycount_from_local_lockdown                                     \n",
       "-28                                                        7.00  \n",
       "-27                                                       11.00  \n",
       "-26                                                       13.00  \n",
       "-25                                                       13.25  \n",
       "-24                                                       13.60  "
      ]
     },
     "execution_count": 36,
     "metadata": {},
     "output_type": "execute_result"
    }
   ],
   "source": [
    "hbs_columns = hbs_filterable.pivot(index = 'daycount_from_local_lockdown', columns = 'health_board', values = 'ravg_admissions') \n",
    "hbs_columns.head()"
   ]
  },
  {
   "cell_type": "code",
   "execution_count": 39,
   "metadata": {},
   "outputs": [
    {
     "data": {
      "application/vnd.plotly.v1+json": {
       "config": {
        "plotlyServerURL": "https://plot.ly"
       },
       "data": [
        {
         "name": "Abertawe Bro Morgannwg University Health Board",
         "type": "scatter",
         "x": [
          -28,
          -27,
          -26,
          -25,
          -24,
          -23,
          -22,
          -21,
          -20,
          -19,
          -18,
          -17,
          -16,
          -15,
          -14,
          -13,
          -12,
          -11,
          -10,
          -9,
          -8,
          -7,
          -6,
          -5,
          -4,
          -3,
          -2,
          -1,
          0,
          1,
          2,
          3,
          4,
          5,
          6,
          7,
          8,
          9,
          10,
          11,
          12,
          13,
          14,
          15,
          16,
          17,
          18,
          19,
          20,
          21,
          22,
          23,
          24,
          25,
          26,
          27,
          28,
          29,
          30,
          31,
          32,
          33,
          34,
          35,
          36,
          37,
          38,
          39,
          40,
          41,
          42,
          43,
          44,
          45,
          46,
          47,
          48,
          49,
          50,
          51,
          52,
          53,
          54,
          55
         ],
         "y": [
          24,
          19.5,
          18.666666666666668,
          20.75,
          23.8,
          25.166666666666668,
          24.285714285714285,
          21.571428571428573,
          21.714285714285715,
          20.857142857142858,
          18.714285714285715,
          17.285714285714285,
          14.857142857142858,
          13.857142857142858,
          14.428571428571429,
          15.714285714285714,
          15.857142857142858,
          16.714285714285715,
          16.285714285714285,
          16,
          17.714285714285715,
          18.285714285714285,
          17,
          18.428571428571427,
          17.571428571428573,
          16.857142857142858,
          16.714285714285715,
          15.571428571428571,
          15.428571428571429,
          14.857142857142858,
          15.285714285714286,
          14.428571428571429,
          13,
          13.285714285714286,
          12.285714285714286,
          12.428571428571429,
          12.142857142857142,
          11,
          12.142857142857142,
          12.285714285714286,
          12.714285714285714,
          12.285714285714286,
          12.142857142857142,
          12.428571428571429,
          11.714285714285714,
          11.142857142857142,
          12.428571428571429,
          12,
          13,
          13.571428571428571,
          13.142857142857142,
          13,
          13.428571428571429,
          11.714285714285714,
          10.142857142857142,
          10,
          8.571428571428571,
          8.428571428571429,
          8.714285714285714,
          8.285714285714286,
          8.571428571428571,
          9.714285714285714,
          9.142857142857142,
          9,
          8.571428571428571,
          7.571428571428571,
          6.571428571428571,
          6,
          5.857142857142857,
          5.714285714285714,
          5.285714285714286,
          5.857142857142857,
          5.285714285714286,
          5.714285714285714,
          6.142857142857143,
          5.857142857142857,
          5.571428571428571,
          5.714285714285714,
          5,
          5.571428571428571,
          5.571428571428571,
          5.285714285714286,
          4.571428571428571,
          4
         ]
        },
        {
         "name": "Aneurin Bevan University Health Board",
         "type": "scatter",
         "x": [
          -28,
          -27,
          -26,
          -25,
          -24,
          -23,
          -22,
          -21,
          -20,
          -19,
          -18,
          -17,
          -16,
          -15,
          -14,
          -13,
          -12,
          -11,
          -10,
          -9,
          -8,
          -7,
          -6,
          -5,
          -4,
          -3,
          -2,
          -1,
          0,
          1,
          2,
          3,
          4,
          5,
          6,
          7,
          8,
          9,
          10,
          11,
          12,
          13,
          14,
          15,
          16,
          17,
          18,
          19,
          20,
          21,
          22,
          23,
          24,
          25,
          26,
          27,
          28,
          29,
          30,
          31,
          32,
          33,
          34,
          35,
          36,
          37,
          38,
          39,
          40,
          41,
          42,
          43,
          44,
          45,
          46,
          47,
          48,
          49,
          50,
          51,
          52,
          53,
          54,
          55
         ],
         "y": [
          13,
          21.5,
          23.333333333333332,
          33.25,
          31.4,
          29.166666666666668,
          28.857142857142858,
          31.142857142857142,
          29.142857142857142,
          30.428571428571427,
          24.285714285714285,
          25.285714285714285,
          26.857142857142858,
          26.285714285714285,
          25.714285714285715,
          26.428571428571427,
          24.571428571428573,
          25.857142857142858,
          24.571428571428573,
          24.428571428571427,
          23.857142857142858,
          23.142857142857142,
          25.285714285714285,
          24.428571428571427,
          23.857142857142858,
          23,
          21.714285714285715,
          22,
          21.571428571428573,
          18.714285714285715,
          17.714285714285715,
          16,
          17.142857142857142,
          16.142857142857142,
          15.571428571428571,
          16,
          15.142857142857142,
          15.285714285714286,
          15.571428571428571,
          14.428571428571429,
          14.142857142857142,
          13.142857142857142,
          13,
          13.142857142857142,
          12.714285714285714,
          12.285714285714286,
          12.142857142857142,
          12.714285714285714,
          12.714285714285714,
          11.428571428571429,
          11,
          12.571428571428571,
          11.428571428571429,
          11.142857142857142,
          10.857142857142858,
          10.428571428571429,
          11.857142857142858,
          12.571428571428571,
          11.142857142857142,
          13,
          12.142857142857142,
          12.571428571428571,
          13.428571428571429,
          12.571428571428571,
          12.285714285714286,
          13.285714285714286,
          12.428571428571429,
          12.714285714285714,
          11.428571428571429,
          12,
          12,
          12.571428571428571,
          11.714285714285714,
          11,
          10.714285714285714,
          11.571428571428571,
          11.714285714285714,
          10.571428571428571,
          9,
          9.428571428571429,
          9.714285714285714,
          9.285714285714286,
          8.857142857142858,
          8
         ]
        },
        {
         "name": "Betsi Cadwaladr University Health Board",
         "type": "scatter",
         "x": [
          -28,
          -27,
          -26,
          -25,
          -24,
          -23,
          -22,
          -21,
          -20,
          -19,
          -18,
          -17,
          -16,
          -15,
          -14,
          -13,
          -12,
          -11,
          -10,
          -9,
          -8,
          -7,
          -6,
          -5,
          -4,
          -3,
          -2,
          -1,
          0,
          1,
          2,
          3,
          4,
          5,
          6,
          7,
          8,
          9,
          10,
          11,
          12,
          13,
          14,
          15,
          16,
          17,
          18,
          19,
          20,
          21,
          22,
          23,
          24,
          25,
          26,
          27,
          28,
          29,
          30,
          31,
          32,
          33,
          34,
          35,
          36,
          37,
          38,
          39,
          40,
          41,
          42,
          43,
          44,
          45,
          46,
          47,
          48,
          49,
          50,
          51,
          52,
          53,
          54,
          55
         ],
         "y": [
          30,
          26.5,
          24,
          25,
          26.4,
          24.666666666666668,
          23.428571428571427,
          22.571428571428573,
          22.285714285714285,
          24.428571428571427,
          23.571428571428573,
          24,
          24.857142857142858,
          25.142857142857142,
          25,
          25.142857142857142,
          24.571428571428573,
          25.857142857142858,
          26.285714285714285,
          27.428571428571427,
          27.714285714285715,
          26.571428571428573,
          27.571428571428573,
          27.285714285714285,
          27,
          27,
          28.714285714285715,
          28.142857142857142,
          31.714285714285715,
          35,
          34.714285714285715,
          35,
          34.857142857142854,
          33.714285714285715,
          34.285714285714285,
          35.142857142857146,
          31,
          30.428571428571427,
          29.428571428571427,
          28.714285714285715,
          27.714285714285715,
          27.142857142857142,
          25.285714285714285,
          23.428571428571427,
          23.285714285714285,
          21.571428571428573,
          20.571428571428573,
          19.428571428571427,
          21.428571428571427,
          19.857142857142858,
          19.428571428571427,
          20,
          21.714285714285715,
          22.142857142857142,
          22.571428571428573,
          19.428571428571427,
          18,
          21.285714285714285,
          22.571428571428573,
          20.142857142857142,
          17.142857142857142,
          16.285714285714285,
          20.142857142857142,
          23,
          21.428571428571427,
          18.571428571428573,
          18.857142857142858,
          19.857142857142858,
          19.571428571428573,
          17.142857142857142,
          13.714285714285714,
          14.428571428571429,
          14.571428571428571,
          14.428571428571429,
          14.428571428571429,
          14.571428571428571,
          15.714285714285714,
          17.285714285714285,
          14.142857142857142,
          13.142857142857142,
          13.142857142857142,
          12.714285714285714,
          11.571428571428571,
          10
         ]
        },
        {
         "name": "Cardiff and Vale University Health Board",
         "type": "scatter",
         "x": [
          -28,
          -27,
          -26,
          -25,
          -24,
          -23,
          -22,
          -21,
          -20,
          -19,
          -18,
          -17,
          -16,
          -15,
          -14,
          -13,
          -12,
          -11,
          -10,
          -9,
          -8,
          -7,
          -6,
          -5,
          -4,
          -3,
          -2,
          -1,
          0,
          1,
          2,
          3,
          4,
          5,
          6,
          7,
          8,
          9,
          10,
          11,
          12,
          13,
          14,
          15,
          16,
          17,
          18,
          19,
          20,
          21,
          22,
          23,
          24,
          25,
          26,
          27,
          28,
          29,
          30,
          31,
          32,
          33,
          34,
          35,
          36,
          37,
          38,
          39,
          40,
          41,
          42,
          43,
          44,
          45,
          46,
          47,
          48,
          49,
          50,
          51,
          52,
          53,
          54,
          55
         ],
         "y": [
          30,
          23,
          20,
          20.5,
          21.6,
          21.5,
          22.428571428571427,
          21.428571428571427,
          22.142857142857142,
          22.857142857142858,
          23,
          21.857142857142858,
          22.857142857142858,
          21.857142857142858,
          20.857142857142858,
          21,
          21.571428571428573,
          21.571428571428573,
          23.285714285714285,
          22.428571428571427,
          21.571428571428573,
          22,
          22.571428571428573,
          22.714285714285715,
          24.285714285714285,
          23.285714285714285,
          23.285714285714285,
          24.714285714285715,
          25.428571428571427,
          25.857142857142858,
          26.428571428571427,
          24.714285714285715,
          25.285714285714285,
          24.142857142857142,
          23.142857142857142,
          21.857142857142858,
          20.571428571428573,
          18.142857142857142,
          18,
          17.571428571428573,
          19,
          19.857142857142858,
          19.857142857142858,
          18.714285714285715,
          19.285714285714285,
          19.857142857142858,
          19.142857142857142,
          18.571428571428573,
          17.571428571428573,
          17.285714285714285,
          18.571428571428573,
          19,
          18,
          17.857142857142858,
          16,
          15.714285714285714,
          16,
          15,
          17.857142857142858,
          16,
          16.428571428571427,
          17.142857142857142,
          16.714285714285715,
          17.285714285714285,
          18.571428571428573,
          15.428571428571429,
          17,
          14.857142857142858,
          16.857142857142858,
          19.285714285714285,
          19.142857142857142,
          19.428571428571427,
          19.857142857142858,
          19,
          18.571428571428573,
          19.714285714285715,
          17.285714285714285,
          15.714285714285714,
          13.285714285714286,
          13,
          12.857142857142858,
          14.571428571428571,
          11.857142857142858,
          10.857142857142858
         ]
        },
        {
         "name": "Cwm Taf University Health Board",
         "type": "scatter",
         "x": [
          -28,
          -27,
          -26,
          -25,
          -24,
          -23,
          -22,
          -21,
          -20,
          -19,
          -18,
          -17,
          -16,
          -15,
          -14,
          -13,
          -12,
          -11,
          -10,
          -9,
          -8,
          -7,
          -6,
          -5,
          -4,
          -3,
          -2,
          -1,
          0,
          1,
          2,
          3,
          4,
          5,
          6,
          7,
          8,
          9,
          10,
          11,
          12,
          13,
          14,
          15,
          16,
          17,
          18,
          19,
          20,
          21,
          22,
          23,
          24,
          25,
          26,
          27,
          28,
          29,
          30,
          31,
          32,
          33,
          34,
          35,
          36,
          37,
          38,
          39,
          40,
          41,
          42,
          43,
          44,
          45,
          46,
          47,
          48,
          49,
          50,
          51,
          52,
          53,
          54,
          55
         ],
         "y": [
          30,
          32.5,
          31.333333333333332,
          33.75,
          32,
          30.833333333333332,
          29.714285714285715,
          29.428571428571427,
          27.714285714285715,
          28.142857142857142,
          24.571428571428573,
          24.714285714285715,
          24.285714285714285,
          23.428571428571427,
          22.142857142857142,
          20.857142857142858,
          19.142857142857142,
          20,
          19.714285714285715,
          19.857142857142858,
          19.428571428571427,
          19.428571428571427,
          20.571428571428573,
          21,
          21.571428571428573,
          20.714285714285715,
          21.857142857142858,
          24.428571428571427,
          24.857142857142858,
          25.857142857142858,
          24.571428571428573,
          25.428571428571427,
          24.571428571428573,
          23.428571428571427,
          22.571428571428573,
          22,
          21.142857142857142,
          20.857142857142858,
          20.142857142857142,
          20.428571428571427,
          21,
          20.714285714285715,
          21.857142857142858,
          21.714285714285715,
          22.714285714285715,
          22.285714285714285,
          23.857142857142858,
          27.714285714285715,
          28.428571428571427,
          28.714285714285715,
          28.714285714285715,
          30.285714285714285,
          28.714285714285715,
          27.714285714285715,
          22.571428571428573,
          20.714285714285715,
          19.714285714285715,
          20,
          18.571428571428573,
          18,
          17.714285714285715,
          19.714285714285715,
          21.428571428571427,
          21.428571428571427,
          20,
          18.571428571428573,
          19.857142857142858,
          21.142857142857142,
          19,
          17.714285714285715,
          16.142857142857142,
          16.285714285714285,
          16.571428571428573,
          15.142857142857142,
          13.142857142857142,
          14.857142857142858,
          13.857142857142858,
          14.285714285714286,
          15.142857142857142,
          14.714285714285714,
          16.285714285714285,
          18,
          17.142857142857142,
          17.142857142857142
         ]
        },
        {
         "name": "Hywel Dda University Health Board",
         "type": "scatter",
         "x": [
          -28,
          -27,
          -26,
          -25,
          -24,
          -23,
          -22,
          -21,
          -20,
          -19,
          -18,
          -17,
          -16,
          -15,
          -14,
          -13,
          -12,
          -11,
          -10,
          -9,
          -8,
          -7,
          -6,
          -5,
          -4,
          -3,
          -2,
          -1,
          0,
          1,
          2,
          3,
          4,
          5,
          6,
          7,
          8,
          9,
          10,
          11,
          12,
          13,
          14,
          15,
          16,
          17,
          18,
          19,
          20,
          21,
          22,
          23,
          24,
          25,
          26,
          27,
          28,
          29,
          30,
          31,
          32,
          33,
          34,
          35,
          36,
          37,
          38,
          39,
          40,
          41,
          42,
          43,
          44,
          45,
          46,
          47,
          48,
          49,
          50,
          51,
          52,
          53,
          54,
          55
         ],
         "y": [
          7,
          11,
          13,
          13.25,
          13.6,
          13.666666666666666,
          14,
          16,
          15.142857142857142,
          15.428571428571429,
          15,
          15,
          14.857142857142858,
          14.142857142857142,
          14.285714285714286,
          14.857142857142858,
          14.857142857142858,
          15.285714285714286,
          14.428571428571429,
          13.857142857142858,
          13.285714285714286,
          11.428571428571429,
          12.285714285714286,
          12.714285714285714,
          13.857142857142858,
          14.285714285714286,
          15,
          14.857142857142858,
          15.857142857142858,
          14,
          12.142857142857142,
          11,
          11.142857142857142,
          11.285714285714286,
          11.857142857142858,
          11.428571428571429,
          12.428571428571429,
          12.714285714285714,
          12.571428571428571,
          12.571428571428571,
          12.285714285714286,
          12.571428571428571,
          13.285714285714286,
          13.428571428571429,
          14,
          14.428571428571429,
          14.714285714285714,
          14.142857142857142,
          14.285714285714286,
          13.714285714285714,
          12.571428571428571,
          11,
          11,
          11.428571428571429,
          12.857142857142858,
          11.428571428571429,
          11.857142857142858,
          13,
          14.142857142857142,
          13.285714285714286,
          12,
          10.714285714285714,
          12,
          11,
          10.857142857142858,
          10.571428571428571,
          10.714285714285714,
          11.285714285714286,
          11.285714285714286,
          11.714285714285714,
          12.428571428571429,
          11.714285714285714,
          13.571428571428571,
          13.714285714285714,
          12.857142857142858,
          12.428571428571429,
          11.142857142857142,
          11.142857142857142,
          11.571428571428571,
          9.857142857142858,
          10,
          11.428571428571429,
          12,
          11.857142857142858
         ]
        }
       ],
       "layout": {
        "template": {
         "data": {
          "bar": [
           {
            "error_x": {
             "color": "#2a3f5f"
            },
            "error_y": {
             "color": "#2a3f5f"
            },
            "marker": {
             "line": {
              "color": "#E5ECF6",
              "width": 0.5
             }
            },
            "type": "bar"
           }
          ],
          "barpolar": [
           {
            "marker": {
             "line": {
              "color": "#E5ECF6",
              "width": 0.5
             }
            },
            "type": "barpolar"
           }
          ],
          "carpet": [
           {
            "aaxis": {
             "endlinecolor": "#2a3f5f",
             "gridcolor": "white",
             "linecolor": "white",
             "minorgridcolor": "white",
             "startlinecolor": "#2a3f5f"
            },
            "baxis": {
             "endlinecolor": "#2a3f5f",
             "gridcolor": "white",
             "linecolor": "white",
             "minorgridcolor": "white",
             "startlinecolor": "#2a3f5f"
            },
            "type": "carpet"
           }
          ],
          "choropleth": [
           {
            "colorbar": {
             "outlinewidth": 0,
             "ticks": ""
            },
            "type": "choropleth"
           }
          ],
          "contour": [
           {
            "colorbar": {
             "outlinewidth": 0,
             "ticks": ""
            },
            "colorscale": [
             [
              0,
              "#0d0887"
             ],
             [
              0.1111111111111111,
              "#46039f"
             ],
             [
              0.2222222222222222,
              "#7201a8"
             ],
             [
              0.3333333333333333,
              "#9c179e"
             ],
             [
              0.4444444444444444,
              "#bd3786"
             ],
             [
              0.5555555555555556,
              "#d8576b"
             ],
             [
              0.6666666666666666,
              "#ed7953"
             ],
             [
              0.7777777777777778,
              "#fb9f3a"
             ],
             [
              0.8888888888888888,
              "#fdca26"
             ],
             [
              1,
              "#f0f921"
             ]
            ],
            "type": "contour"
           }
          ],
          "contourcarpet": [
           {
            "colorbar": {
             "outlinewidth": 0,
             "ticks": ""
            },
            "type": "contourcarpet"
           }
          ],
          "heatmap": [
           {
            "colorbar": {
             "outlinewidth": 0,
             "ticks": ""
            },
            "colorscale": [
             [
              0,
              "#0d0887"
             ],
             [
              0.1111111111111111,
              "#46039f"
             ],
             [
              0.2222222222222222,
              "#7201a8"
             ],
             [
              0.3333333333333333,
              "#9c179e"
             ],
             [
              0.4444444444444444,
              "#bd3786"
             ],
             [
              0.5555555555555556,
              "#d8576b"
             ],
             [
              0.6666666666666666,
              "#ed7953"
             ],
             [
              0.7777777777777778,
              "#fb9f3a"
             ],
             [
              0.8888888888888888,
              "#fdca26"
             ],
             [
              1,
              "#f0f921"
             ]
            ],
            "type": "heatmap"
           }
          ],
          "heatmapgl": [
           {
            "colorbar": {
             "outlinewidth": 0,
             "ticks": ""
            },
            "colorscale": [
             [
              0,
              "#0d0887"
             ],
             [
              0.1111111111111111,
              "#46039f"
             ],
             [
              0.2222222222222222,
              "#7201a8"
             ],
             [
              0.3333333333333333,
              "#9c179e"
             ],
             [
              0.4444444444444444,
              "#bd3786"
             ],
             [
              0.5555555555555556,
              "#d8576b"
             ],
             [
              0.6666666666666666,
              "#ed7953"
             ],
             [
              0.7777777777777778,
              "#fb9f3a"
             ],
             [
              0.8888888888888888,
              "#fdca26"
             ],
             [
              1,
              "#f0f921"
             ]
            ],
            "type": "heatmapgl"
           }
          ],
          "histogram": [
           {
            "marker": {
             "colorbar": {
              "outlinewidth": 0,
              "ticks": ""
             }
            },
            "type": "histogram"
           }
          ],
          "histogram2d": [
           {
            "colorbar": {
             "outlinewidth": 0,
             "ticks": ""
            },
            "colorscale": [
             [
              0,
              "#0d0887"
             ],
             [
              0.1111111111111111,
              "#46039f"
             ],
             [
              0.2222222222222222,
              "#7201a8"
             ],
             [
              0.3333333333333333,
              "#9c179e"
             ],
             [
              0.4444444444444444,
              "#bd3786"
             ],
             [
              0.5555555555555556,
              "#d8576b"
             ],
             [
              0.6666666666666666,
              "#ed7953"
             ],
             [
              0.7777777777777778,
              "#fb9f3a"
             ],
             [
              0.8888888888888888,
              "#fdca26"
             ],
             [
              1,
              "#f0f921"
             ]
            ],
            "type": "histogram2d"
           }
          ],
          "histogram2dcontour": [
           {
            "colorbar": {
             "outlinewidth": 0,
             "ticks": ""
            },
            "colorscale": [
             [
              0,
              "#0d0887"
             ],
             [
              0.1111111111111111,
              "#46039f"
             ],
             [
              0.2222222222222222,
              "#7201a8"
             ],
             [
              0.3333333333333333,
              "#9c179e"
             ],
             [
              0.4444444444444444,
              "#bd3786"
             ],
             [
              0.5555555555555556,
              "#d8576b"
             ],
             [
              0.6666666666666666,
              "#ed7953"
             ],
             [
              0.7777777777777778,
              "#fb9f3a"
             ],
             [
              0.8888888888888888,
              "#fdca26"
             ],
             [
              1,
              "#f0f921"
             ]
            ],
            "type": "histogram2dcontour"
           }
          ],
          "mesh3d": [
           {
            "colorbar": {
             "outlinewidth": 0,
             "ticks": ""
            },
            "type": "mesh3d"
           }
          ],
          "parcoords": [
           {
            "line": {
             "colorbar": {
              "outlinewidth": 0,
              "ticks": ""
             }
            },
            "type": "parcoords"
           }
          ],
          "pie": [
           {
            "automargin": true,
            "type": "pie"
           }
          ],
          "scatter": [
           {
            "marker": {
             "colorbar": {
              "outlinewidth": 0,
              "ticks": ""
             }
            },
            "type": "scatter"
           }
          ],
          "scatter3d": [
           {
            "line": {
             "colorbar": {
              "outlinewidth": 0,
              "ticks": ""
             }
            },
            "marker": {
             "colorbar": {
              "outlinewidth": 0,
              "ticks": ""
             }
            },
            "type": "scatter3d"
           }
          ],
          "scattercarpet": [
           {
            "marker": {
             "colorbar": {
              "outlinewidth": 0,
              "ticks": ""
             }
            },
            "type": "scattercarpet"
           }
          ],
          "scattergeo": [
           {
            "marker": {
             "colorbar": {
              "outlinewidth": 0,
              "ticks": ""
             }
            },
            "type": "scattergeo"
           }
          ],
          "scattergl": [
           {
            "marker": {
             "colorbar": {
              "outlinewidth": 0,
              "ticks": ""
             }
            },
            "type": "scattergl"
           }
          ],
          "scattermapbox": [
           {
            "marker": {
             "colorbar": {
              "outlinewidth": 0,
              "ticks": ""
             }
            },
            "type": "scattermapbox"
           }
          ],
          "scatterpolar": [
           {
            "marker": {
             "colorbar": {
              "outlinewidth": 0,
              "ticks": ""
             }
            },
            "type": "scatterpolar"
           }
          ],
          "scatterpolargl": [
           {
            "marker": {
             "colorbar": {
              "outlinewidth": 0,
              "ticks": ""
             }
            },
            "type": "scatterpolargl"
           }
          ],
          "scatterternary": [
           {
            "marker": {
             "colorbar": {
              "outlinewidth": 0,
              "ticks": ""
             }
            },
            "type": "scatterternary"
           }
          ],
          "surface": [
           {
            "colorbar": {
             "outlinewidth": 0,
             "ticks": ""
            },
            "colorscale": [
             [
              0,
              "#0d0887"
             ],
             [
              0.1111111111111111,
              "#46039f"
             ],
             [
              0.2222222222222222,
              "#7201a8"
             ],
             [
              0.3333333333333333,
              "#9c179e"
             ],
             [
              0.4444444444444444,
              "#bd3786"
             ],
             [
              0.5555555555555556,
              "#d8576b"
             ],
             [
              0.6666666666666666,
              "#ed7953"
             ],
             [
              0.7777777777777778,
              "#fb9f3a"
             ],
             [
              0.8888888888888888,
              "#fdca26"
             ],
             [
              1,
              "#f0f921"
             ]
            ],
            "type": "surface"
           }
          ],
          "table": [
           {
            "cells": {
             "fill": {
              "color": "#EBF0F8"
             },
             "line": {
              "color": "white"
             }
            },
            "header": {
             "fill": {
              "color": "#C8D4E3"
             },
             "line": {
              "color": "white"
             }
            },
            "type": "table"
           }
          ]
         },
         "layout": {
          "annotationdefaults": {
           "arrowcolor": "#2a3f5f",
           "arrowhead": 0,
           "arrowwidth": 1
          },
          "coloraxis": {
           "colorbar": {
            "outlinewidth": 0,
            "ticks": ""
           }
          },
          "colorscale": {
           "diverging": [
            [
             0,
             "#8e0152"
            ],
            [
             0.1,
             "#c51b7d"
            ],
            [
             0.2,
             "#de77ae"
            ],
            [
             0.3,
             "#f1b6da"
            ],
            [
             0.4,
             "#fde0ef"
            ],
            [
             0.5,
             "#f7f7f7"
            ],
            [
             0.6,
             "#e6f5d0"
            ],
            [
             0.7,
             "#b8e186"
            ],
            [
             0.8,
             "#7fbc41"
            ],
            [
             0.9,
             "#4d9221"
            ],
            [
             1,
             "#276419"
            ]
           ],
           "sequential": [
            [
             0,
             "#0d0887"
            ],
            [
             0.1111111111111111,
             "#46039f"
            ],
            [
             0.2222222222222222,
             "#7201a8"
            ],
            [
             0.3333333333333333,
             "#9c179e"
            ],
            [
             0.4444444444444444,
             "#bd3786"
            ],
            [
             0.5555555555555556,
             "#d8576b"
            ],
            [
             0.6666666666666666,
             "#ed7953"
            ],
            [
             0.7777777777777778,
             "#fb9f3a"
            ],
            [
             0.8888888888888888,
             "#fdca26"
            ],
            [
             1,
             "#f0f921"
            ]
           ],
           "sequentialminus": [
            [
             0,
             "#0d0887"
            ],
            [
             0.1111111111111111,
             "#46039f"
            ],
            [
             0.2222222222222222,
             "#7201a8"
            ],
            [
             0.3333333333333333,
             "#9c179e"
            ],
            [
             0.4444444444444444,
             "#bd3786"
            ],
            [
             0.5555555555555556,
             "#d8576b"
            ],
            [
             0.6666666666666666,
             "#ed7953"
            ],
            [
             0.7777777777777778,
             "#fb9f3a"
            ],
            [
             0.8888888888888888,
             "#fdca26"
            ],
            [
             1,
             "#f0f921"
            ]
           ]
          },
          "colorway": [
           "#636efa",
           "#EF553B",
           "#00cc96",
           "#ab63fa",
           "#FFA15A",
           "#19d3f3",
           "#FF6692",
           "#B6E880",
           "#FF97FF",
           "#FECB52"
          ],
          "font": {
           "color": "#2a3f5f"
          },
          "geo": {
           "bgcolor": "white",
           "lakecolor": "white",
           "landcolor": "#E5ECF6",
           "showlakes": true,
           "showland": true,
           "subunitcolor": "white"
          },
          "hoverlabel": {
           "align": "left"
          },
          "hovermode": "closest",
          "mapbox": {
           "style": "light"
          },
          "paper_bgcolor": "white",
          "plot_bgcolor": "#E5ECF6",
          "polar": {
           "angularaxis": {
            "gridcolor": "white",
            "linecolor": "white",
            "ticks": ""
           },
           "bgcolor": "#E5ECF6",
           "radialaxis": {
            "gridcolor": "white",
            "linecolor": "white",
            "ticks": ""
           }
          },
          "scene": {
           "xaxis": {
            "backgroundcolor": "#E5ECF6",
            "gridcolor": "white",
            "gridwidth": 2,
            "linecolor": "white",
            "showbackground": true,
            "ticks": "",
            "zerolinecolor": "white"
           },
           "yaxis": {
            "backgroundcolor": "#E5ECF6",
            "gridcolor": "white",
            "gridwidth": 2,
            "linecolor": "white",
            "showbackground": true,
            "ticks": "",
            "zerolinecolor": "white"
           },
           "zaxis": {
            "backgroundcolor": "#E5ECF6",
            "gridcolor": "white",
            "gridwidth": 2,
            "linecolor": "white",
            "showbackground": true,
            "ticks": "",
            "zerolinecolor": "white"
           }
          },
          "shapedefaults": {
           "line": {
            "color": "#2a3f5f"
           }
          },
          "ternary": {
           "aaxis": {
            "gridcolor": "white",
            "linecolor": "white",
            "ticks": ""
           },
           "baxis": {
            "gridcolor": "white",
            "linecolor": "white",
            "ticks": ""
           },
           "bgcolor": "#E5ECF6",
           "caxis": {
            "gridcolor": "white",
            "linecolor": "white",
            "ticks": ""
           }
          },
          "title": {
           "x": 0.05
          },
          "xaxis": {
           "automargin": true,
           "gridcolor": "white",
           "linecolor": "white",
           "ticks": "",
           "title": {
            "standoff": 15
           },
           "zerolinecolor": "white",
           "zerolinewidth": 2
          },
          "yaxis": {
           "automargin": true,
           "gridcolor": "white",
           "linecolor": "white",
           "ticks": "",
           "title": {
            "standoff": 15
           },
           "zerolinecolor": "white",
           "zerolinewidth": 2
          }
         }
        },
        "updatemenus": [
         {
          "active": 0,
          "buttons": [
           {
            "args": [
             {
              "visible": [
               true,
               true,
               true,
               true,
               true,
               true
              ]
             },
             {
              "showlegend": true,
              "title": "Rolling average (over one week) of daily hospital admissions<br>Health board:  All"
             }
            ],
            "label": "All",
            "method": "update"
           },
           {
            "args": [
             {
              "visible": [
               true,
               false,
               false,
               false,
               false,
               false
              ]
             },
             {
              "showlegend": true,
              "title": "Rolling average (over one week) of daily hospital admissions<br>Health board:  Abertawe Bro Morgannwg"
             }
            ],
            "label": "Abertawe Bro Morgannwg",
            "method": "update"
           },
           {
            "args": [
             {
              "visible": [
               false,
               true,
               false,
               false,
               false,
               false
              ]
             },
             {
              "showlegend": true,
              "title": "Rolling average (over one week) of daily hospital admissions<br>Health board:  Aneurin Bevan"
             }
            ],
            "label": "Aneurin Bevan",
            "method": "update"
           },
           {
            "args": [
             {
              "visible": [
               false,
               false,
               true,
               false,
               false,
               false
              ]
             },
             {
              "showlegend": true,
              "title": "Rolling average (over one week) of daily hospital admissions<br>Health board:  Betsi Cadwaladr"
             }
            ],
            "label": "Betsi Cadwaladr",
            "method": "update"
           },
           {
            "args": [
             {
              "visible": [
               false,
               false,
               false,
               true,
               false,
               false
              ]
             },
             {
              "showlegend": true,
              "title": "Rolling average (over one week) of daily hospital admissions<br>Health board:  Cardiff and Vale"
             }
            ],
            "label": "Cardiff and Vale",
            "method": "update"
           },
           {
            "args": [
             {
              "visible": [
               false,
               false,
               false,
               false,
               true,
               false
              ]
             },
             {
              "showlegend": true,
              "title": "Rolling average (over one week) of daily hospital admissions<br>Health board:  Cwm Taf"
             }
            ],
            "label": "Cwm Taf",
            "method": "update"
           },
           {
            "args": [
             {
              "visible": [
               false,
               false,
               false,
               false,
               false,
               true
              ]
             },
             {
              "showlegend": true,
              "title": "Rolling average (over one week) of daily hospital admissions<br>Health board:  Hywel Dda"
             }
            ],
            "label": "Hywel Dda",
            "method": "update"
           }
          ]
         }
        ]
       }
      },
      "text/html": [
       "<div>                            <div id=\"e9dab7ba-0f1f-4bd5-8cf3-43b62da737dd\" class=\"plotly-graph-div\" style=\"height:525px; width:100%;\"></div>            <script type=\"text/javascript\">                require([\"plotly\"], function(Plotly) {                    window.PLOTLYENV=window.PLOTLYENV || {};                                    if (document.getElementById(\"e9dab7ba-0f1f-4bd5-8cf3-43b62da737dd\")) {                    Plotly.newPlot(                        \"e9dab7ba-0f1f-4bd5-8cf3-43b62da737dd\",                        [{\"name\": \"Abertawe Bro Morgannwg University Health Board\", \"type\": \"scatter\", \"x\": [-28, -27, -26, -25, -24, -23, -22, -21, -20, -19, -18, -17, -16, -15, -14, -13, -12, -11, -10, -9, -8, -7, -6, -5, -4, -3, -2, -1, 0, 1, 2, 3, 4, 5, 6, 7, 8, 9, 10, 11, 12, 13, 14, 15, 16, 17, 18, 19, 20, 21, 22, 23, 24, 25, 26, 27, 28, 29, 30, 31, 32, 33, 34, 35, 36, 37, 38, 39, 40, 41, 42, 43, 44, 45, 46, 47, 48, 49, 50, 51, 52, 53, 54, 55], \"y\": [24.0, 19.5, 18.666666666666668, 20.75, 23.8, 25.166666666666668, 24.285714285714285, 21.571428571428573, 21.714285714285715, 20.857142857142858, 18.714285714285715, 17.285714285714285, 14.857142857142858, 13.857142857142858, 14.428571428571429, 15.714285714285714, 15.857142857142858, 16.714285714285715, 16.285714285714285, 16.0, 17.714285714285715, 18.285714285714285, 17.0, 18.428571428571427, 17.571428571428573, 16.857142857142858, 16.714285714285715, 15.571428571428571, 15.428571428571429, 14.857142857142858, 15.285714285714286, 14.428571428571429, 13.0, 13.285714285714286, 12.285714285714286, 12.428571428571429, 12.142857142857142, 11.0, 12.142857142857142, 12.285714285714286, 12.714285714285714, 12.285714285714286, 12.142857142857142, 12.428571428571429, 11.714285714285714, 11.142857142857142, 12.428571428571429, 12.0, 13.0, 13.571428571428571, 13.142857142857142, 13.0, 13.428571428571429, 11.714285714285714, 10.142857142857142, 10.0, 8.571428571428571, 8.428571428571429, 8.714285714285714, 8.285714285714286, 8.571428571428571, 9.714285714285714, 9.142857142857142, 9.0, 8.571428571428571, 7.571428571428571, 6.571428571428571, 6.0, 5.857142857142857, 5.714285714285714, 5.285714285714286, 5.857142857142857, 5.285714285714286, 5.714285714285714, 6.142857142857143, 5.857142857142857, 5.571428571428571, 5.714285714285714, 5.0, 5.571428571428571, 5.571428571428571, 5.285714285714286, 4.571428571428571, 4.0]}, {\"name\": \"Aneurin Bevan University Health Board\", \"type\": \"scatter\", \"x\": [-28, -27, -26, -25, -24, -23, -22, -21, -20, -19, -18, -17, -16, -15, -14, -13, -12, -11, -10, -9, -8, -7, -6, -5, -4, -3, -2, -1, 0, 1, 2, 3, 4, 5, 6, 7, 8, 9, 10, 11, 12, 13, 14, 15, 16, 17, 18, 19, 20, 21, 22, 23, 24, 25, 26, 27, 28, 29, 30, 31, 32, 33, 34, 35, 36, 37, 38, 39, 40, 41, 42, 43, 44, 45, 46, 47, 48, 49, 50, 51, 52, 53, 54, 55], \"y\": [13.0, 21.5, 23.333333333333332, 33.25, 31.4, 29.166666666666668, 28.857142857142858, 31.142857142857142, 29.142857142857142, 30.428571428571427, 24.285714285714285, 25.285714285714285, 26.857142857142858, 26.285714285714285, 25.714285714285715, 26.428571428571427, 24.571428571428573, 25.857142857142858, 24.571428571428573, 24.428571428571427, 23.857142857142858, 23.142857142857142, 25.285714285714285, 24.428571428571427, 23.857142857142858, 23.0, 21.714285714285715, 22.0, 21.571428571428573, 18.714285714285715, 17.714285714285715, 16.0, 17.142857142857142, 16.142857142857142, 15.571428571428571, 16.0, 15.142857142857142, 15.285714285714286, 15.571428571428571, 14.428571428571429, 14.142857142857142, 13.142857142857142, 13.0, 13.142857142857142, 12.714285714285714, 12.285714285714286, 12.142857142857142, 12.714285714285714, 12.714285714285714, 11.428571428571429, 11.0, 12.571428571428571, 11.428571428571429, 11.142857142857142, 10.857142857142858, 10.428571428571429, 11.857142857142858, 12.571428571428571, 11.142857142857142, 13.0, 12.142857142857142, 12.571428571428571, 13.428571428571429, 12.571428571428571, 12.285714285714286, 13.285714285714286, 12.428571428571429, 12.714285714285714, 11.428571428571429, 12.0, 12.0, 12.571428571428571, 11.714285714285714, 11.0, 10.714285714285714, 11.571428571428571, 11.714285714285714, 10.571428571428571, 9.0, 9.428571428571429, 9.714285714285714, 9.285714285714286, 8.857142857142858, 8.0]}, {\"name\": \"Betsi Cadwaladr University Health Board\", \"type\": \"scatter\", \"x\": [-28, -27, -26, -25, -24, -23, -22, -21, -20, -19, -18, -17, -16, -15, -14, -13, -12, -11, -10, -9, -8, -7, -6, -5, -4, -3, -2, -1, 0, 1, 2, 3, 4, 5, 6, 7, 8, 9, 10, 11, 12, 13, 14, 15, 16, 17, 18, 19, 20, 21, 22, 23, 24, 25, 26, 27, 28, 29, 30, 31, 32, 33, 34, 35, 36, 37, 38, 39, 40, 41, 42, 43, 44, 45, 46, 47, 48, 49, 50, 51, 52, 53, 54, 55], \"y\": [30.0, 26.5, 24.0, 25.0, 26.4, 24.666666666666668, 23.428571428571427, 22.571428571428573, 22.285714285714285, 24.428571428571427, 23.571428571428573, 24.0, 24.857142857142858, 25.142857142857142, 25.0, 25.142857142857142, 24.571428571428573, 25.857142857142858, 26.285714285714285, 27.428571428571427, 27.714285714285715, 26.571428571428573, 27.571428571428573, 27.285714285714285, 27.0, 27.0, 28.714285714285715, 28.142857142857142, 31.714285714285715, 35.0, 34.714285714285715, 35.0, 34.857142857142854, 33.714285714285715, 34.285714285714285, 35.142857142857146, 31.0, 30.428571428571427, 29.428571428571427, 28.714285714285715, 27.714285714285715, 27.142857142857142, 25.285714285714285, 23.428571428571427, 23.285714285714285, 21.571428571428573, 20.571428571428573, 19.428571428571427, 21.428571428571427, 19.857142857142858, 19.428571428571427, 20.0, 21.714285714285715, 22.142857142857142, 22.571428571428573, 19.428571428571427, 18.0, 21.285714285714285, 22.571428571428573, 20.142857142857142, 17.142857142857142, 16.285714285714285, 20.142857142857142, 23.0, 21.428571428571427, 18.571428571428573, 18.857142857142858, 19.857142857142858, 19.571428571428573, 17.142857142857142, 13.714285714285714, 14.428571428571429, 14.571428571428571, 14.428571428571429, 14.428571428571429, 14.571428571428571, 15.714285714285714, 17.285714285714285, 14.142857142857142, 13.142857142857142, 13.142857142857142, 12.714285714285714, 11.571428571428571, 10.0]}, {\"name\": \"Cardiff and Vale University Health Board\", \"type\": \"scatter\", \"x\": [-28, -27, -26, -25, -24, -23, -22, -21, -20, -19, -18, -17, -16, -15, -14, -13, -12, -11, -10, -9, -8, -7, -6, -5, -4, -3, -2, -1, 0, 1, 2, 3, 4, 5, 6, 7, 8, 9, 10, 11, 12, 13, 14, 15, 16, 17, 18, 19, 20, 21, 22, 23, 24, 25, 26, 27, 28, 29, 30, 31, 32, 33, 34, 35, 36, 37, 38, 39, 40, 41, 42, 43, 44, 45, 46, 47, 48, 49, 50, 51, 52, 53, 54, 55], \"y\": [30.0, 23.0, 20.0, 20.5, 21.6, 21.5, 22.428571428571427, 21.428571428571427, 22.142857142857142, 22.857142857142858, 23.0, 21.857142857142858, 22.857142857142858, 21.857142857142858, 20.857142857142858, 21.0, 21.571428571428573, 21.571428571428573, 23.285714285714285, 22.428571428571427, 21.571428571428573, 22.0, 22.571428571428573, 22.714285714285715, 24.285714285714285, 23.285714285714285, 23.285714285714285, 24.714285714285715, 25.428571428571427, 25.857142857142858, 26.428571428571427, 24.714285714285715, 25.285714285714285, 24.142857142857142, 23.142857142857142, 21.857142857142858, 20.571428571428573, 18.142857142857142, 18.0, 17.571428571428573, 19.0, 19.857142857142858, 19.857142857142858, 18.714285714285715, 19.285714285714285, 19.857142857142858, 19.142857142857142, 18.571428571428573, 17.571428571428573, 17.285714285714285, 18.571428571428573, 19.0, 18.0, 17.857142857142858, 16.0, 15.714285714285714, 16.0, 15.0, 17.857142857142858, 16.0, 16.428571428571427, 17.142857142857142, 16.714285714285715, 17.285714285714285, 18.571428571428573, 15.428571428571429, 17.0, 14.857142857142858, 16.857142857142858, 19.285714285714285, 19.142857142857142, 19.428571428571427, 19.857142857142858, 19.0, 18.571428571428573, 19.714285714285715, 17.285714285714285, 15.714285714285714, 13.285714285714286, 13.0, 12.857142857142858, 14.571428571428571, 11.857142857142858, 10.857142857142858]}, {\"name\": \"Cwm Taf University Health Board\", \"type\": \"scatter\", \"x\": [-28, -27, -26, -25, -24, -23, -22, -21, -20, -19, -18, -17, -16, -15, -14, -13, -12, -11, -10, -9, -8, -7, -6, -5, -4, -3, -2, -1, 0, 1, 2, 3, 4, 5, 6, 7, 8, 9, 10, 11, 12, 13, 14, 15, 16, 17, 18, 19, 20, 21, 22, 23, 24, 25, 26, 27, 28, 29, 30, 31, 32, 33, 34, 35, 36, 37, 38, 39, 40, 41, 42, 43, 44, 45, 46, 47, 48, 49, 50, 51, 52, 53, 54, 55], \"y\": [30.0, 32.5, 31.333333333333332, 33.75, 32.0, 30.833333333333332, 29.714285714285715, 29.428571428571427, 27.714285714285715, 28.142857142857142, 24.571428571428573, 24.714285714285715, 24.285714285714285, 23.428571428571427, 22.142857142857142, 20.857142857142858, 19.142857142857142, 20.0, 19.714285714285715, 19.857142857142858, 19.428571428571427, 19.428571428571427, 20.571428571428573, 21.0, 21.571428571428573, 20.714285714285715, 21.857142857142858, 24.428571428571427, 24.857142857142858, 25.857142857142858, 24.571428571428573, 25.428571428571427, 24.571428571428573, 23.428571428571427, 22.571428571428573, 22.0, 21.142857142857142, 20.857142857142858, 20.142857142857142, 20.428571428571427, 21.0, 20.714285714285715, 21.857142857142858, 21.714285714285715, 22.714285714285715, 22.285714285714285, 23.857142857142858, 27.714285714285715, 28.428571428571427, 28.714285714285715, 28.714285714285715, 30.285714285714285, 28.714285714285715, 27.714285714285715, 22.571428571428573, 20.714285714285715, 19.714285714285715, 20.0, 18.571428571428573, 18.0, 17.714285714285715, 19.714285714285715, 21.428571428571427, 21.428571428571427, 20.0, 18.571428571428573, 19.857142857142858, 21.142857142857142, 19.0, 17.714285714285715, 16.142857142857142, 16.285714285714285, 16.571428571428573, 15.142857142857142, 13.142857142857142, 14.857142857142858, 13.857142857142858, 14.285714285714286, 15.142857142857142, 14.714285714285714, 16.285714285714285, 18.0, 17.142857142857142, 17.142857142857142]}, {\"name\": \"Hywel Dda University Health Board\", \"type\": \"scatter\", \"x\": [-28, -27, -26, -25, -24, -23, -22, -21, -20, -19, -18, -17, -16, -15, -14, -13, -12, -11, -10, -9, -8, -7, -6, -5, -4, -3, -2, -1, 0, 1, 2, 3, 4, 5, 6, 7, 8, 9, 10, 11, 12, 13, 14, 15, 16, 17, 18, 19, 20, 21, 22, 23, 24, 25, 26, 27, 28, 29, 30, 31, 32, 33, 34, 35, 36, 37, 38, 39, 40, 41, 42, 43, 44, 45, 46, 47, 48, 49, 50, 51, 52, 53, 54, 55], \"y\": [7.0, 11.0, 13.0, 13.25, 13.6, 13.666666666666666, 14.0, 16.0, 15.142857142857142, 15.428571428571429, 15.0, 15.0, 14.857142857142858, 14.142857142857142, 14.285714285714286, 14.857142857142858, 14.857142857142858, 15.285714285714286, 14.428571428571429, 13.857142857142858, 13.285714285714286, 11.428571428571429, 12.285714285714286, 12.714285714285714, 13.857142857142858, 14.285714285714286, 15.0, 14.857142857142858, 15.857142857142858, 14.0, 12.142857142857142, 11.0, 11.142857142857142, 11.285714285714286, 11.857142857142858, 11.428571428571429, 12.428571428571429, 12.714285714285714, 12.571428571428571, 12.571428571428571, 12.285714285714286, 12.571428571428571, 13.285714285714286, 13.428571428571429, 14.0, 14.428571428571429, 14.714285714285714, 14.142857142857142, 14.285714285714286, 13.714285714285714, 12.571428571428571, 11.0, 11.0, 11.428571428571429, 12.857142857142858, 11.428571428571429, 11.857142857142858, 13.0, 14.142857142857142, 13.285714285714286, 12.0, 10.714285714285714, 12.0, 11.0, 10.857142857142858, 10.571428571428571, 10.714285714285714, 11.285714285714286, 11.285714285714286, 11.714285714285714, 12.428571428571429, 11.714285714285714, 13.571428571428571, 13.714285714285714, 12.857142857142858, 12.428571428571429, 11.142857142857142, 11.142857142857142, 11.571428571428571, 9.857142857142858, 10.0, 11.428571428571429, 12.0, 11.857142857142858]}],                        {\"template\": {\"data\": {\"bar\": [{\"error_x\": {\"color\": \"#2a3f5f\"}, \"error_y\": {\"color\": \"#2a3f5f\"}, \"marker\": {\"line\": {\"color\": \"#E5ECF6\", \"width\": 0.5}}, \"type\": \"bar\"}], \"barpolar\": [{\"marker\": {\"line\": {\"color\": \"#E5ECF6\", \"width\": 0.5}}, \"type\": \"barpolar\"}], \"carpet\": [{\"aaxis\": {\"endlinecolor\": \"#2a3f5f\", \"gridcolor\": \"white\", \"linecolor\": \"white\", \"minorgridcolor\": \"white\", \"startlinecolor\": \"#2a3f5f\"}, \"baxis\": {\"endlinecolor\": \"#2a3f5f\", \"gridcolor\": \"white\", \"linecolor\": \"white\", \"minorgridcolor\": \"white\", \"startlinecolor\": \"#2a3f5f\"}, \"type\": \"carpet\"}], \"choropleth\": [{\"colorbar\": {\"outlinewidth\": 0, \"ticks\": \"\"}, \"type\": \"choropleth\"}], \"contour\": [{\"colorbar\": {\"outlinewidth\": 0, \"ticks\": \"\"}, \"colorscale\": [[0.0, \"#0d0887\"], [0.1111111111111111, \"#46039f\"], [0.2222222222222222, \"#7201a8\"], [0.3333333333333333, \"#9c179e\"], [0.4444444444444444, \"#bd3786\"], [0.5555555555555556, \"#d8576b\"], [0.6666666666666666, \"#ed7953\"], [0.7777777777777778, \"#fb9f3a\"], [0.8888888888888888, \"#fdca26\"], [1.0, \"#f0f921\"]], \"type\": \"contour\"}], \"contourcarpet\": [{\"colorbar\": {\"outlinewidth\": 0, \"ticks\": \"\"}, \"type\": \"contourcarpet\"}], \"heatmap\": [{\"colorbar\": {\"outlinewidth\": 0, \"ticks\": \"\"}, \"colorscale\": [[0.0, \"#0d0887\"], [0.1111111111111111, \"#46039f\"], [0.2222222222222222, \"#7201a8\"], [0.3333333333333333, \"#9c179e\"], [0.4444444444444444, \"#bd3786\"], [0.5555555555555556, \"#d8576b\"], [0.6666666666666666, \"#ed7953\"], [0.7777777777777778, \"#fb9f3a\"], [0.8888888888888888, \"#fdca26\"], [1.0, \"#f0f921\"]], \"type\": \"heatmap\"}], \"heatmapgl\": [{\"colorbar\": {\"outlinewidth\": 0, \"ticks\": \"\"}, \"colorscale\": [[0.0, \"#0d0887\"], [0.1111111111111111, \"#46039f\"], [0.2222222222222222, \"#7201a8\"], [0.3333333333333333, \"#9c179e\"], [0.4444444444444444, \"#bd3786\"], [0.5555555555555556, \"#d8576b\"], [0.6666666666666666, \"#ed7953\"], [0.7777777777777778, \"#fb9f3a\"], [0.8888888888888888, \"#fdca26\"], [1.0, \"#f0f921\"]], \"type\": \"heatmapgl\"}], \"histogram\": [{\"marker\": {\"colorbar\": {\"outlinewidth\": 0, \"ticks\": \"\"}}, \"type\": \"histogram\"}], \"histogram2d\": [{\"colorbar\": {\"outlinewidth\": 0, \"ticks\": \"\"}, \"colorscale\": [[0.0, \"#0d0887\"], [0.1111111111111111, \"#46039f\"], [0.2222222222222222, \"#7201a8\"], [0.3333333333333333, \"#9c179e\"], [0.4444444444444444, \"#bd3786\"], [0.5555555555555556, \"#d8576b\"], [0.6666666666666666, \"#ed7953\"], [0.7777777777777778, \"#fb9f3a\"], [0.8888888888888888, \"#fdca26\"], [1.0, \"#f0f921\"]], \"type\": \"histogram2d\"}], \"histogram2dcontour\": [{\"colorbar\": {\"outlinewidth\": 0, \"ticks\": \"\"}, \"colorscale\": [[0.0, \"#0d0887\"], [0.1111111111111111, \"#46039f\"], [0.2222222222222222, \"#7201a8\"], [0.3333333333333333, \"#9c179e\"], [0.4444444444444444, \"#bd3786\"], [0.5555555555555556, \"#d8576b\"], [0.6666666666666666, \"#ed7953\"], [0.7777777777777778, \"#fb9f3a\"], [0.8888888888888888, \"#fdca26\"], [1.0, \"#f0f921\"]], \"type\": \"histogram2dcontour\"}], \"mesh3d\": [{\"colorbar\": {\"outlinewidth\": 0, \"ticks\": \"\"}, \"type\": \"mesh3d\"}], \"parcoords\": [{\"line\": {\"colorbar\": {\"outlinewidth\": 0, \"ticks\": \"\"}}, \"type\": \"parcoords\"}], \"pie\": [{\"automargin\": true, \"type\": \"pie\"}], \"scatter\": [{\"marker\": {\"colorbar\": {\"outlinewidth\": 0, \"ticks\": \"\"}}, \"type\": \"scatter\"}], \"scatter3d\": [{\"line\": {\"colorbar\": {\"outlinewidth\": 0, \"ticks\": \"\"}}, \"marker\": {\"colorbar\": {\"outlinewidth\": 0, \"ticks\": \"\"}}, \"type\": \"scatter3d\"}], \"scattercarpet\": [{\"marker\": {\"colorbar\": {\"outlinewidth\": 0, \"ticks\": \"\"}}, \"type\": \"scattercarpet\"}], \"scattergeo\": [{\"marker\": {\"colorbar\": {\"outlinewidth\": 0, \"ticks\": \"\"}}, \"type\": \"scattergeo\"}], \"scattergl\": [{\"marker\": {\"colorbar\": {\"outlinewidth\": 0, \"ticks\": \"\"}}, \"type\": \"scattergl\"}], \"scattermapbox\": [{\"marker\": {\"colorbar\": {\"outlinewidth\": 0, \"ticks\": \"\"}}, \"type\": \"scattermapbox\"}], \"scatterpolar\": [{\"marker\": {\"colorbar\": {\"outlinewidth\": 0, \"ticks\": \"\"}}, \"type\": \"scatterpolar\"}], \"scatterpolargl\": [{\"marker\": {\"colorbar\": {\"outlinewidth\": 0, \"ticks\": \"\"}}, \"type\": \"scatterpolargl\"}], \"scatterternary\": [{\"marker\": {\"colorbar\": {\"outlinewidth\": 0, \"ticks\": \"\"}}, \"type\": \"scatterternary\"}], \"surface\": [{\"colorbar\": {\"outlinewidth\": 0, \"ticks\": \"\"}, \"colorscale\": [[0.0, \"#0d0887\"], [0.1111111111111111, \"#46039f\"], [0.2222222222222222, \"#7201a8\"], [0.3333333333333333, \"#9c179e\"], [0.4444444444444444, \"#bd3786\"], [0.5555555555555556, \"#d8576b\"], [0.6666666666666666, \"#ed7953\"], [0.7777777777777778, \"#fb9f3a\"], [0.8888888888888888, \"#fdca26\"], [1.0, \"#f0f921\"]], \"type\": \"surface\"}], \"table\": [{\"cells\": {\"fill\": {\"color\": \"#EBF0F8\"}, \"line\": {\"color\": \"white\"}}, \"header\": {\"fill\": {\"color\": \"#C8D4E3\"}, \"line\": {\"color\": \"white\"}}, \"type\": \"table\"}]}, \"layout\": {\"annotationdefaults\": {\"arrowcolor\": \"#2a3f5f\", \"arrowhead\": 0, \"arrowwidth\": 1}, \"coloraxis\": {\"colorbar\": {\"outlinewidth\": 0, \"ticks\": \"\"}}, \"colorscale\": {\"diverging\": [[0, \"#8e0152\"], [0.1, \"#c51b7d\"], [0.2, \"#de77ae\"], [0.3, \"#f1b6da\"], [0.4, \"#fde0ef\"], [0.5, \"#f7f7f7\"], [0.6, \"#e6f5d0\"], [0.7, \"#b8e186\"], [0.8, \"#7fbc41\"], [0.9, \"#4d9221\"], [1, \"#276419\"]], \"sequential\": [[0.0, \"#0d0887\"], [0.1111111111111111, \"#46039f\"], [0.2222222222222222, \"#7201a8\"], [0.3333333333333333, \"#9c179e\"], [0.4444444444444444, \"#bd3786\"], [0.5555555555555556, \"#d8576b\"], [0.6666666666666666, \"#ed7953\"], [0.7777777777777778, \"#fb9f3a\"], [0.8888888888888888, \"#fdca26\"], [1.0, \"#f0f921\"]], \"sequentialminus\": [[0.0, \"#0d0887\"], [0.1111111111111111, \"#46039f\"], [0.2222222222222222, \"#7201a8\"], [0.3333333333333333, \"#9c179e\"], [0.4444444444444444, \"#bd3786\"], [0.5555555555555556, \"#d8576b\"], [0.6666666666666666, \"#ed7953\"], [0.7777777777777778, \"#fb9f3a\"], [0.8888888888888888, \"#fdca26\"], [1.0, \"#f0f921\"]]}, \"colorway\": [\"#636efa\", \"#EF553B\", \"#00cc96\", \"#ab63fa\", \"#FFA15A\", \"#19d3f3\", \"#FF6692\", \"#B6E880\", \"#FF97FF\", \"#FECB52\"], \"font\": {\"color\": \"#2a3f5f\"}, \"geo\": {\"bgcolor\": \"white\", \"lakecolor\": \"white\", \"landcolor\": \"#E5ECF6\", \"showlakes\": true, \"showland\": true, \"subunitcolor\": \"white\"}, \"hoverlabel\": {\"align\": \"left\"}, \"hovermode\": \"closest\", \"mapbox\": {\"style\": \"light\"}, \"paper_bgcolor\": \"white\", \"plot_bgcolor\": \"#E5ECF6\", \"polar\": {\"angularaxis\": {\"gridcolor\": \"white\", \"linecolor\": \"white\", \"ticks\": \"\"}, \"bgcolor\": \"#E5ECF6\", \"radialaxis\": {\"gridcolor\": \"white\", \"linecolor\": \"white\", \"ticks\": \"\"}}, \"scene\": {\"xaxis\": {\"backgroundcolor\": \"#E5ECF6\", \"gridcolor\": \"white\", \"gridwidth\": 2, \"linecolor\": \"white\", \"showbackground\": true, \"ticks\": \"\", \"zerolinecolor\": \"white\"}, \"yaxis\": {\"backgroundcolor\": \"#E5ECF6\", \"gridcolor\": \"white\", \"gridwidth\": 2, \"linecolor\": \"white\", \"showbackground\": true, \"ticks\": \"\", \"zerolinecolor\": \"white\"}, \"zaxis\": {\"backgroundcolor\": \"#E5ECF6\", \"gridcolor\": \"white\", \"gridwidth\": 2, \"linecolor\": \"white\", \"showbackground\": true, \"ticks\": \"\", \"zerolinecolor\": \"white\"}}, \"shapedefaults\": {\"line\": {\"color\": \"#2a3f5f\"}}, \"ternary\": {\"aaxis\": {\"gridcolor\": \"white\", \"linecolor\": \"white\", \"ticks\": \"\"}, \"baxis\": {\"gridcolor\": \"white\", \"linecolor\": \"white\", \"ticks\": \"\"}, \"bgcolor\": \"#E5ECF6\", \"caxis\": {\"gridcolor\": \"white\", \"linecolor\": \"white\", \"ticks\": \"\"}}, \"title\": {\"x\": 0.05}, \"xaxis\": {\"automargin\": true, \"gridcolor\": \"white\", \"linecolor\": \"white\", \"ticks\": \"\", \"title\": {\"standoff\": 15}, \"zerolinecolor\": \"white\", \"zerolinewidth\": 2}, \"yaxis\": {\"automargin\": true, \"gridcolor\": \"white\", \"linecolor\": \"white\", \"ticks\": \"\", \"title\": {\"standoff\": 15}, \"zerolinecolor\": \"white\", \"zerolinewidth\": 2}}}, \"updatemenus\": [{\"active\": 0, \"buttons\": [{\"args\": [{\"visible\": [true, true, true, true, true, true]}, {\"showlegend\": true, \"title\": \"Rolling average (over one week) of daily hospital admissions<br>Health board:  All\"}], \"label\": \"All\", \"method\": \"update\"}, {\"args\": [{\"visible\": [true, false, false, false, false, false]}, {\"showlegend\": true, \"title\": \"Rolling average (over one week) of daily hospital admissions<br>Health board:  Abertawe Bro Morgannwg\"}], \"label\": \"Abertawe Bro Morgannwg\", \"method\": \"update\"}, {\"args\": [{\"visible\": [false, true, false, false, false, false]}, {\"showlegend\": true, \"title\": \"Rolling average (over one week) of daily hospital admissions<br>Health board:  Aneurin Bevan\"}], \"label\": \"Aneurin Bevan\", \"method\": \"update\"}, {\"args\": [{\"visible\": [false, false, true, false, false, false]}, {\"showlegend\": true, \"title\": \"Rolling average (over one week) of daily hospital admissions<br>Health board:  Betsi Cadwaladr\"}], \"label\": \"Betsi Cadwaladr\", \"method\": \"update\"}, {\"args\": [{\"visible\": [false, false, false, true, false, false]}, {\"showlegend\": true, \"title\": \"Rolling average (over one week) of daily hospital admissions<br>Health board:  Cardiff and Vale\"}], \"label\": \"Cardiff and Vale\", \"method\": \"update\"}, {\"args\": [{\"visible\": [false, false, false, false, true, false]}, {\"showlegend\": true, \"title\": \"Rolling average (over one week) of daily hospital admissions<br>Health board:  Cwm Taf\"}], \"label\": \"Cwm Taf\", \"method\": \"update\"}, {\"args\": [{\"visible\": [false, false, false, false, false, true]}, {\"showlegend\": true, \"title\": \"Rolling average (over one week) of daily hospital admissions<br>Health board:  Hywel Dda\"}], \"label\": \"Hywel Dda\", \"method\": \"update\"}]}]},                        {\"responsive\": true}                    ).then(function(){\n",
       "                            \n",
       "var gd = document.getElementById('e9dab7ba-0f1f-4bd5-8cf3-43b62da737dd');\n",
       "var x = new MutationObserver(function (mutations, observer) {{\n",
       "        var display = window.getComputedStyle(gd).display;\n",
       "        if (!display || display === 'none') {{\n",
       "            console.log([gd, 'removed!']);\n",
       "            Plotly.purge(gd);\n",
       "            observer.disconnect();\n",
       "        }}\n",
       "}});\n",
       "\n",
       "// Listen for the removal of the full notebook cells\n",
       "var notebookContainer = gd.closest('#notebook-container');\n",
       "if (notebookContainer) {{\n",
       "    x.observe(notebookContainer, {childList: true});\n",
       "}}\n",
       "\n",
       "// Listen for the clearing of the current output cell\n",
       "var outputEl = gd.closest('.output');\n",
       "if (outputEl) {{\n",
       "    x.observe(outputEl, {childList: true});\n",
       "}}\n",
       "\n",
       "                        })                };                });            </script>        </div>"
      ]
     },
     "metadata": {},
     "output_type": "display_data"
    }
   ],
   "source": [
    "import plotly.graph_objects as go\n",
    "fig = go.Figure()\n",
    "\n",
    "for column in hbs_columns.columns.to_list():\n",
    "    fig.add_trace(\n",
    "        go.Scatter(\n",
    "            x = hbs_columns.index,\n",
    "            y = hbs_columns[column],\n",
    "            name = column\n",
    "        )\n",
    "    )\n",
    "    \n",
    "main_title = 'Rolling average (over one week) of daily hospital admissions<br>Health board:  '\n",
    "fig.update_layout(\n",
    "    updatemenus=[go.layout.Updatemenu(\n",
    "        active=0,\n",
    "        buttons=list(\n",
    "            [dict(label = 'All',\n",
    "                  method = 'update',\n",
    "                  args = [{'visible': [True, True, True, True, True, True]},\n",
    "                          {'title': main_title + 'All',\n",
    "                           'showlegend':True}]),\n",
    "             dict(label = 'Abertawe Bro Morgannwg',\n",
    "                  method = 'update',\n",
    "                  args = [{'visible': [True, False, False, False, False, False]}, # the index of True aligns with the indices of plot traces\n",
    "                          {'title': main_title + 'Abertawe Bro Morgannwg',\n",
    "                           'showlegend':True}]),\n",
    "             dict(label = 'Aneurin Bevan',\n",
    "                  method = 'update',\n",
    "                  args = [{'visible': [False, True, False, False, False, False]},\n",
    "                          {'title': main_title + 'Aneurin Bevan',\n",
    "                           'showlegend':True}]),\n",
    "             dict(label = 'Betsi Cadwaladr',\n",
    "                  method = 'update',\n",
    "                  args = [{'visible': [False, False, True, False, False, False]},\n",
    "                          {'title': main_title + 'Betsi Cadwaladr',\n",
    "                           'showlegend':True}]),\n",
    "             dict(label = 'Cardiff and Vale',\n",
    "                  method = 'update',\n",
    "                  args = [{'visible': [False, False, False, True, False, False]},\n",
    "                          {'title': main_title + 'Cardiff and Vale',\n",
    "                           'showlegend':True}]),\n",
    "             dict(label = 'Cwm Taf',\n",
    "                  method = 'update',\n",
    "                  args = [{'visible': [False, False, False, False, True, False]},\n",
    "                          {'title': main_title + 'Cwm Taf',\n",
    "                           'showlegend':True}]),\n",
    "             dict(label = 'Hywel Dda',\n",
    "                  method = 'update',\n",
    "                  args = [{'visible': [False, False, False, False, False, True]},\n",
    "                          {'title': main_title + 'Hywel Dda',\n",
    "                           'showlegend':True}]),\n",
    "            ])\n",
    "        )\n",
    "    ])\n",
    "\n",
    "fig.write_html('visualisations/lockdown_countdown_admissions.html')\n",
    "fig.show()"
   ]
  }
 ],
 "metadata": {
  "kernelspec": {
   "display_name": "Python 3",
   "language": "python",
   "name": "python3"
  },
  "language_info": {
   "codemirror_mode": {
    "name": "ipython",
    "version": 3
   },
   "file_extension": ".py",
   "mimetype": "text/x-python",
   "name": "python",
   "nbconvert_exporter": "python",
   "pygments_lexer": "ipython3",
   "version": "3.6.1"
  }
 },
 "nbformat": 4,
 "nbformat_minor": 4
}
